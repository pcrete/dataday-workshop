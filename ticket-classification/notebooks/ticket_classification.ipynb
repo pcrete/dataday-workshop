{
  "cells": [
    {
      "cell_type": "markdown",
      "metadata": {
        "id": "wsG4IlChC4Ym"
      },
      "source": [
        "\n",
        "# Automatic Ticket classification"
      ]
    },
    {
      "cell_type": "code",
      "execution_count": 1,
      "metadata": {
        "id": "BCoWO-ba662T"
      },
      "outputs": [],
      "source": [
        "import numpy as np\n",
        "import json\n",
        "import pandas as pd\n",
        "import re\n",
        "import spacy\n",
        "import matplotlib.pyplot as plt\n",
        "%matplotlib inline\n",
        "\n",
        "from sklearn.feature_extraction.text import TfidfVectorizer"
      ]
    },
    {
      "cell_type": "code",
      "execution_count": 2,
      "metadata": {
        "id": "Vupj5_Wu8Cvp"
      },
      "outputs": [
        {
          "data": {
            "text/html": [
              "<div>\n",
              "<style scoped>\n",
              "    .dataframe tbody tr th:only-of-type {\n",
              "        vertical-align: middle;\n",
              "    }\n",
              "\n",
              "    .dataframe tbody tr th {\n",
              "        vertical-align: top;\n",
              "    }\n",
              "\n",
              "    .dataframe thead th {\n",
              "        text-align: right;\n",
              "    }\n",
              "</style>\n",
              "<table border=\"1\" class=\"dataframe\">\n",
              "  <thead>\n",
              "    <tr style=\"text-align: right;\">\n",
              "      <th></th>\n",
              "      <th>_index</th>\n",
              "      <th>_type</th>\n",
              "      <th>_id</th>\n",
              "      <th>_score</th>\n",
              "      <th>_source.tags</th>\n",
              "      <th>_source.zip_code</th>\n",
              "      <th>_source.complaint_id</th>\n",
              "      <th>_source.issue</th>\n",
              "      <th>_source.date_received</th>\n",
              "      <th>_source.state</th>\n",
              "      <th>...</th>\n",
              "      <th>_source.company_response</th>\n",
              "      <th>_source.company</th>\n",
              "      <th>_source.submitted_via</th>\n",
              "      <th>_source.date_sent_to_company</th>\n",
              "      <th>_source.company_public_response</th>\n",
              "      <th>_source.sub_product</th>\n",
              "      <th>_source.timely</th>\n",
              "      <th>_source.complaint_what_happened</th>\n",
              "      <th>_source.sub_issue</th>\n",
              "      <th>_source.consumer_consent_provided</th>\n",
              "    </tr>\n",
              "  </thead>\n",
              "  <tbody>\n",
              "    <tr>\n",
              "      <th>0</th>\n",
              "      <td>complaint-public-v2</td>\n",
              "      <td>complaint</td>\n",
              "      <td>3211475</td>\n",
              "      <td>0.0</td>\n",
              "      <td>None</td>\n",
              "      <td>90301</td>\n",
              "      <td>3211475</td>\n",
              "      <td>Attempts to collect debt not owed</td>\n",
              "      <td>2019-04-13T12:00:00-05:00</td>\n",
              "      <td>CA</td>\n",
              "      <td>...</td>\n",
              "      <td>Closed with explanation</td>\n",
              "      <td>JPMORGAN CHASE &amp; CO.</td>\n",
              "      <td>Web</td>\n",
              "      <td>2019-04-13T12:00:00-05:00</td>\n",
              "      <td>None</td>\n",
              "      <td>Credit card debt</td>\n",
              "      <td>Yes</td>\n",
              "      <td></td>\n",
              "      <td>Debt is not yours</td>\n",
              "      <td>Consent not provided</td>\n",
              "    </tr>\n",
              "    <tr>\n",
              "      <th>1</th>\n",
              "      <td>complaint-public-v2</td>\n",
              "      <td>complaint</td>\n",
              "      <td>3229299</td>\n",
              "      <td>0.0</td>\n",
              "      <td>Servicemember</td>\n",
              "      <td>319XX</td>\n",
              "      <td>3229299</td>\n",
              "      <td>Written notification about debt</td>\n",
              "      <td>2019-05-01T12:00:00-05:00</td>\n",
              "      <td>GA</td>\n",
              "      <td>...</td>\n",
              "      <td>Closed with explanation</td>\n",
              "      <td>JPMORGAN CHASE &amp; CO.</td>\n",
              "      <td>Web</td>\n",
              "      <td>2019-05-01T12:00:00-05:00</td>\n",
              "      <td>None</td>\n",
              "      <td>Credit card debt</td>\n",
              "      <td>Yes</td>\n",
              "      <td>Good morning my name is XXXX XXXX and I apprec...</td>\n",
              "      <td>Didn't receive enough information to verify debt</td>\n",
              "      <td>Consent provided</td>\n",
              "    </tr>\n",
              "    <tr>\n",
              "      <th>2</th>\n",
              "      <td>complaint-public-v2</td>\n",
              "      <td>complaint</td>\n",
              "      <td>3199379</td>\n",
              "      <td>0.0</td>\n",
              "      <td>None</td>\n",
              "      <td>77069</td>\n",
              "      <td>3199379</td>\n",
              "      <td>Other features, terms, or problems</td>\n",
              "      <td>2019-04-02T12:00:00-05:00</td>\n",
              "      <td>TX</td>\n",
              "      <td>...</td>\n",
              "      <td>Closed with explanation</td>\n",
              "      <td>JPMORGAN CHASE &amp; CO.</td>\n",
              "      <td>Web</td>\n",
              "      <td>2019-04-02T12:00:00-05:00</td>\n",
              "      <td>None</td>\n",
              "      <td>General-purpose credit card or charge card</td>\n",
              "      <td>Yes</td>\n",
              "      <td>I upgraded my XXXX XXXX card in XX/XX/2018 and...</td>\n",
              "      <td>Problem with rewards from credit card</td>\n",
              "      <td>Consent provided</td>\n",
              "    </tr>\n",
              "  </tbody>\n",
              "</table>\n",
              "<p>3 rows × 22 columns</p>\n",
              "</div>"
            ],
            "text/plain": [
              "                _index      _type      _id  _score   _source.tags  \\\n",
              "0  complaint-public-v2  complaint  3211475     0.0           None   \n",
              "1  complaint-public-v2  complaint  3229299     0.0  Servicemember   \n",
              "2  complaint-public-v2  complaint  3199379     0.0           None   \n",
              "\n",
              "  _source.zip_code _source.complaint_id                       _source.issue  \\\n",
              "0            90301              3211475   Attempts to collect debt not owed   \n",
              "1            319XX              3229299     Written notification about debt   \n",
              "2            77069              3199379  Other features, terms, or problems   \n",
              "\n",
              "       _source.date_received _source.state  ... _source.company_response  \\\n",
              "0  2019-04-13T12:00:00-05:00            CA  ...  Closed with explanation   \n",
              "1  2019-05-01T12:00:00-05:00            GA  ...  Closed with explanation   \n",
              "2  2019-04-02T12:00:00-05:00            TX  ...  Closed with explanation   \n",
              "\n",
              "        _source.company _source.submitted_via _source.date_sent_to_company  \\\n",
              "0  JPMORGAN CHASE & CO.                   Web    2019-04-13T12:00:00-05:00   \n",
              "1  JPMORGAN CHASE & CO.                   Web    2019-05-01T12:00:00-05:00   \n",
              "2  JPMORGAN CHASE & CO.                   Web    2019-04-02T12:00:00-05:00   \n",
              "\n",
              "  _source.company_public_response                         _source.sub_product  \\\n",
              "0                            None                            Credit card debt   \n",
              "1                            None                            Credit card debt   \n",
              "2                            None  General-purpose credit card or charge card   \n",
              "\n",
              "  _source.timely                    _source.complaint_what_happened  \\\n",
              "0            Yes                                                      \n",
              "1            Yes  Good morning my name is XXXX XXXX and I apprec...   \n",
              "2            Yes  I upgraded my XXXX XXXX card in XX/XX/2018 and...   \n",
              "\n",
              "                                  _source.sub_issue  \\\n",
              "0                                 Debt is not yours   \n",
              "1  Didn't receive enough information to verify debt   \n",
              "2             Problem with rewards from credit card   \n",
              "\n",
              "  _source.consumer_consent_provided  \n",
              "0              Consent not provided  \n",
              "1                  Consent provided  \n",
              "2                  Consent provided  \n",
              "\n",
              "[3 rows x 22 columns]"
            ]
          },
          "execution_count": 2,
          "metadata": {},
          "output_type": "execute_result"
        }
      ],
      "source": [
        "f = open('data/complaints.json')\n",
        "data = json.load(f)\n",
        "df = pd.json_normalize(data)\n",
        "df.head(3)"
      ]
    },
    {
      "cell_type": "code",
      "execution_count": 4,
      "metadata": {},
      "outputs": [
        {
          "data": {
            "text/plain": [
              "(78313, 22)"
            ]
          },
          "execution_count": 4,
          "metadata": {},
          "output_type": "execute_result"
        }
      ],
      "source": [
        "# printing the shape for the dataframe\n",
        "df.shape"
      ]
    },
    {
      "cell_type": "markdown",
      "metadata": {
        "id": "EOr1PSs_H-VW"
      },
      "source": [
        "### 4. Text cleaning and pre-processing "
      ]
    },
    {
      "cell_type": "code",
      "execution_count": 6,
      "metadata": {},
      "outputs": [
        {
          "data": {
            "text/html": [
              "<div>\n",
              "<style scoped>\n",
              "    .dataframe tbody tr th:only-of-type {\n",
              "        vertical-align: middle;\n",
              "    }\n",
              "\n",
              "    .dataframe tbody tr th {\n",
              "        vertical-align: top;\n",
              "    }\n",
              "\n",
              "    .dataframe thead th {\n",
              "        text-align: right;\n",
              "    }\n",
              "</style>\n",
              "<table border=\"1\" class=\"dataframe\">\n",
              "  <thead>\n",
              "    <tr style=\"text-align: right;\">\n",
              "      <th></th>\n",
              "      <th>_index</th>\n",
              "      <th>_type</th>\n",
              "      <th>_id</th>\n",
              "      <th>_score</th>\n",
              "      <th>tags</th>\n",
              "      <th>zip_code</th>\n",
              "      <th>complaint_id</th>\n",
              "      <th>issue</th>\n",
              "      <th>date_received</th>\n",
              "      <th>state</th>\n",
              "      <th>...</th>\n",
              "      <th>company_response</th>\n",
              "      <th>company</th>\n",
              "      <th>submitted_via</th>\n",
              "      <th>date_sent_to_company</th>\n",
              "      <th>company_public_response</th>\n",
              "      <th>sub_product</th>\n",
              "      <th>timely</th>\n",
              "      <th>complaint_what_happened</th>\n",
              "      <th>sub_issue</th>\n",
              "      <th>consumer_consent_provided</th>\n",
              "    </tr>\n",
              "  </thead>\n",
              "  <tbody>\n",
              "    <tr>\n",
              "      <th>0</th>\n",
              "      <td>complaint-public-v2</td>\n",
              "      <td>complaint</td>\n",
              "      <td>3211475</td>\n",
              "      <td>0.0</td>\n",
              "      <td>None</td>\n",
              "      <td>90301</td>\n",
              "      <td>3211475</td>\n",
              "      <td>Attempts to collect debt not owed</td>\n",
              "      <td>2019-04-13T12:00:00-05:00</td>\n",
              "      <td>CA</td>\n",
              "      <td>...</td>\n",
              "      <td>Closed with explanation</td>\n",
              "      <td>JPMORGAN CHASE &amp; CO.</td>\n",
              "      <td>Web</td>\n",
              "      <td>2019-04-13T12:00:00-05:00</td>\n",
              "      <td>None</td>\n",
              "      <td>Credit card debt</td>\n",
              "      <td>Yes</td>\n",
              "      <td></td>\n",
              "      <td>Debt is not yours</td>\n",
              "      <td>Consent not provided</td>\n",
              "    </tr>\n",
              "    <tr>\n",
              "      <th>1</th>\n",
              "      <td>complaint-public-v2</td>\n",
              "      <td>complaint</td>\n",
              "      <td>3229299</td>\n",
              "      <td>0.0</td>\n",
              "      <td>Servicemember</td>\n",
              "      <td>319XX</td>\n",
              "      <td>3229299</td>\n",
              "      <td>Written notification about debt</td>\n",
              "      <td>2019-05-01T12:00:00-05:00</td>\n",
              "      <td>GA</td>\n",
              "      <td>...</td>\n",
              "      <td>Closed with explanation</td>\n",
              "      <td>JPMORGAN CHASE &amp; CO.</td>\n",
              "      <td>Web</td>\n",
              "      <td>2019-05-01T12:00:00-05:00</td>\n",
              "      <td>None</td>\n",
              "      <td>Credit card debt</td>\n",
              "      <td>Yes</td>\n",
              "      <td>Good morning my name is XXXX XXXX and I apprec...</td>\n",
              "      <td>Didn't receive enough information to verify debt</td>\n",
              "      <td>Consent provided</td>\n",
              "    </tr>\n",
              "    <tr>\n",
              "      <th>2</th>\n",
              "      <td>complaint-public-v2</td>\n",
              "      <td>complaint</td>\n",
              "      <td>3199379</td>\n",
              "      <td>0.0</td>\n",
              "      <td>None</td>\n",
              "      <td>77069</td>\n",
              "      <td>3199379</td>\n",
              "      <td>Other features, terms, or problems</td>\n",
              "      <td>2019-04-02T12:00:00-05:00</td>\n",
              "      <td>TX</td>\n",
              "      <td>...</td>\n",
              "      <td>Closed with explanation</td>\n",
              "      <td>JPMORGAN CHASE &amp; CO.</td>\n",
              "      <td>Web</td>\n",
              "      <td>2019-04-02T12:00:00-05:00</td>\n",
              "      <td>None</td>\n",
              "      <td>General-purpose credit card or charge card</td>\n",
              "      <td>Yes</td>\n",
              "      <td>I upgraded my XXXX XXXX card in XX/XX/2018 and...</td>\n",
              "      <td>Problem with rewards from credit card</td>\n",
              "      <td>Consent provided</td>\n",
              "    </tr>\n",
              "  </tbody>\n",
              "</table>\n",
              "<p>3 rows × 22 columns</p>\n",
              "</div>"
            ],
            "text/plain": [
              "                _index      _type      _id  _score           tags zip_code  \\\n",
              "0  complaint-public-v2  complaint  3211475     0.0           None    90301   \n",
              "1  complaint-public-v2  complaint  3229299     0.0  Servicemember    319XX   \n",
              "2  complaint-public-v2  complaint  3199379     0.0           None    77069   \n",
              "\n",
              "  complaint_id                               issue              date_received  \\\n",
              "0      3211475   Attempts to collect debt not owed  2019-04-13T12:00:00-05:00   \n",
              "1      3229299     Written notification about debt  2019-05-01T12:00:00-05:00   \n",
              "2      3199379  Other features, terms, or problems  2019-04-02T12:00:00-05:00   \n",
              "\n",
              "  state  ...         company_response               company submitted_via  \\\n",
              "0    CA  ...  Closed with explanation  JPMORGAN CHASE & CO.           Web   \n",
              "1    GA  ...  Closed with explanation  JPMORGAN CHASE & CO.           Web   \n",
              "2    TX  ...  Closed with explanation  JPMORGAN CHASE & CO.           Web   \n",
              "\n",
              "        date_sent_to_company company_public_response  \\\n",
              "0  2019-04-13T12:00:00-05:00                    None   \n",
              "1  2019-05-01T12:00:00-05:00                    None   \n",
              "2  2019-04-02T12:00:00-05:00                    None   \n",
              "\n",
              "                                  sub_product timely  \\\n",
              "0                            Credit card debt    Yes   \n",
              "1                            Credit card debt    Yes   \n",
              "2  General-purpose credit card or charge card    Yes   \n",
              "\n",
              "                             complaint_what_happened  \\\n",
              "0                                                      \n",
              "1  Good morning my name is XXXX XXXX and I apprec...   \n",
              "2  I upgraded my XXXX XXXX card in XX/XX/2018 and...   \n",
              "\n",
              "                                          sub_issue consumer_consent_provided  \n",
              "0                                 Debt is not yours      Consent not provided  \n",
              "1  Didn't receive enough information to verify debt          Consent provided  \n",
              "2             Problem with rewards from credit card          Consent provided  \n",
              "\n",
              "[3 rows x 22 columns]"
            ]
          },
          "execution_count": 6,
          "metadata": {},
          "output_type": "execute_result"
        }
      ],
      "source": [
        "# removing _source from column names\n",
        "columns = df.columns\n",
        "new_columns=[ column.replace(\"_source.\",\"\") for column in columns ]\n",
        "df.columns = new_columns\n",
        "df.head(3)"
      ]
    },
    {
      "cell_type": "markdown",
      "metadata": {
        "id": "imw56cGuEXu9"
      },
      "source": [
        "#### 4.1. Handling missing values"
      ]
    },
    {
      "cell_type": "code",
      "execution_count": 7,
      "metadata": {},
      "outputs": [
        {
          "data": {
            "text/plain": [
              "57241"
            ]
          },
          "execution_count": 7,
          "metadata": {},
          "output_type": "execute_result"
        }
      ],
      "source": [
        "# check the nan, and the empty string complaints\n",
        "df['complaint_what_happened']=df['complaint_what_happened'].apply(lambda x: pd.NA if len(x)==0 else x)\n",
        "df['complaint_what_happened'].isna().sum()"
      ]
    },
    {
      "cell_type": "code",
      "execution_count": 9,
      "metadata": {},
      "outputs": [],
      "source": [
        "df = df[~df['complaint_what_happened'].isna()]"
      ]
    },
    {
      "cell_type": "markdown",
      "metadata": {
        "id": "04oAdO8GEdbu"
      },
      "source": [
        "#### 4.2. Text cleaning \n"
      ]
    },
    {
      "cell_type": "code",
      "execution_count": 10,
      "metadata": {},
      "outputs": [],
      "source": [
        "# define a function to perform basic text cleaning\n",
        "def preprocess(text):\n",
        "  # convert all characters to lowercase\n",
        "  text = text.lower()\n",
        "  text = re.sub(r'\\[.*?\\]','',text) # remove text in square brackets\n",
        "  text = re.sub(r'[^\\w\\s]', '',text) # remove all punctuations\n",
        "  text = re.sub(r'[\\d]','',text) # remove all digits\n",
        "  text = re.sub(r'[*x]?','',text) # remove masked characters\n",
        "  return text"
      ]
    },
    {
      "cell_type": "code",
      "execution_count": 14,
      "metadata": {
        "id": "jYV-pWbOQ84o"
      },
      "outputs": [
        {
          "data": {
            "text/html": [
              "<div>\n",
              "<style scoped>\n",
              "    .dataframe tbody tr th:only-of-type {\n",
              "        vertical-align: middle;\n",
              "    }\n",
              "\n",
              "    .dataframe tbody tr th {\n",
              "        vertical-align: top;\n",
              "    }\n",
              "\n",
              "    .dataframe thead th {\n",
              "        text-align: right;\n",
              "    }\n",
              "</style>\n",
              "<table border=\"1\" class=\"dataframe\">\n",
              "  <thead>\n",
              "    <tr style=\"text-align: right;\">\n",
              "      <th></th>\n",
              "      <th>complaint_what_happened</th>\n",
              "      <th>complaint_pre_process</th>\n",
              "    </tr>\n",
              "  </thead>\n",
              "  <tbody>\n",
              "    <tr>\n",
              "      <th>1</th>\n",
              "      <td>Good morning my name is XXXX XXXX and I apprec...</td>\n",
              "      <td>good morning my name is   and i appreciate it ...</td>\n",
              "    </tr>\n",
              "    <tr>\n",
              "      <th>2</th>\n",
              "      <td>I upgraded my XXXX XXXX card in XX/XX/2018 and...</td>\n",
              "      <td>i upgraded my   card in  and was told by the a...</td>\n",
              "    </tr>\n",
              "    <tr>\n",
              "      <th>10</th>\n",
              "      <td>Chase Card was reported on XX/XX/2019. However...</td>\n",
              "      <td>chase card was reported on  however fraudulent...</td>\n",
              "    </tr>\n",
              "    <tr>\n",
              "      <th>11</th>\n",
              "      <td>On XX/XX/2018, while trying to book a XXXX  XX...</td>\n",
              "      <td>on  while trying to book a     ticket i came a...</td>\n",
              "    </tr>\n",
              "    <tr>\n",
              "      <th>14</th>\n",
              "      <td>my grand son give me check for {$1600.00} i de...</td>\n",
              "      <td>my grand son give me check for  i deposit it i...</td>\n",
              "    </tr>\n",
              "    <tr>\n",
              "      <th>...</th>\n",
              "      <td>...</td>\n",
              "      <td>...</td>\n",
              "    </tr>\n",
              "    <tr>\n",
              "      <th>78303</th>\n",
              "      <td>After being a Chase Card customer for well ove...</td>\n",
              "      <td>after being a chase card customer for well ove...</td>\n",
              "    </tr>\n",
              "    <tr>\n",
              "      <th>78309</th>\n",
              "      <td>On Wednesday, XX/XX/XXXX I called Chas, my XXX...</td>\n",
              "      <td>on wednesday  i called chas my   visa credit c...</td>\n",
              "    </tr>\n",
              "    <tr>\n",
              "      <th>78310</th>\n",
              "      <td>I am not familiar with XXXX pay and did not un...</td>\n",
              "      <td>i am not familiar with  pay and did not unders...</td>\n",
              "    </tr>\n",
              "    <tr>\n",
              "      <th>78311</th>\n",
              "      <td>I have had flawless credit for 30 yrs. I've ha...</td>\n",
              "      <td>i have had flawless credit for  yrs ive had ch...</td>\n",
              "    </tr>\n",
              "    <tr>\n",
              "      <th>78312</th>\n",
              "      <td>Roughly 10+ years ago I closed out my accounts...</td>\n",
              "      <td>roughly  years ago i closed out my accounts wi...</td>\n",
              "    </tr>\n",
              "  </tbody>\n",
              "</table>\n",
              "<p>21072 rows × 2 columns</p>\n",
              "</div>"
            ],
            "text/plain": [
              "                                 complaint_what_happened  \\\n",
              "1      Good morning my name is XXXX XXXX and I apprec...   \n",
              "2      I upgraded my XXXX XXXX card in XX/XX/2018 and...   \n",
              "10     Chase Card was reported on XX/XX/2019. However...   \n",
              "11     On XX/XX/2018, while trying to book a XXXX  XX...   \n",
              "14     my grand son give me check for {$1600.00} i de...   \n",
              "...                                                  ...   \n",
              "78303  After being a Chase Card customer for well ove...   \n",
              "78309  On Wednesday, XX/XX/XXXX I called Chas, my XXX...   \n",
              "78310  I am not familiar with XXXX pay and did not un...   \n",
              "78311  I have had flawless credit for 30 yrs. I've ha...   \n",
              "78312  Roughly 10+ years ago I closed out my accounts...   \n",
              "\n",
              "                                   complaint_pre_process  \n",
              "1      good morning my name is   and i appreciate it ...  \n",
              "2      i upgraded my   card in  and was told by the a...  \n",
              "10     chase card was reported on  however fraudulent...  \n",
              "11     on  while trying to book a     ticket i came a...  \n",
              "14     my grand son give me check for  i deposit it i...  \n",
              "...                                                  ...  \n",
              "78303  after being a chase card customer for well ove...  \n",
              "78309  on wednesday  i called chas my   visa credit c...  \n",
              "78310  i am not familiar with  pay and did not unders...  \n",
              "78311  i have had flawless credit for  yrs ive had ch...  \n",
              "78312  roughly  years ago i closed out my accounts wi...  \n",
              "\n",
              "[21072 rows x 2 columns]"
            ]
          },
          "execution_count": 14,
          "metadata": {},
          "output_type": "execute_result"
        }
      ],
      "source": [
        "df['complaint_what_happened'] = df['complaint_what_happened'].astype(str)\n",
        "df['complaint_pre_process'] = df['complaint_what_happened'].apply(preprocess)\n",
        "df[['complaint_what_happened','complaint_pre_process']]"
      ]
    },
    {
      "cell_type": "code",
      "execution_count": 27,
      "metadata": {},
      "outputs": [],
      "source": [
        "import spacy\n",
        "model = spacy.load(\"en_core_web_sm\")\n",
        "\n",
        "def getLemma(text):\n",
        "  modified_text =\" \"\n",
        "  tokens = model(text)\n",
        "  for token in tokens :\n",
        "    if(token.tag_=='NN'):\n",
        "       modified_text = modified_text + token.lemma_ +\" \"\n",
        "  return modified_text\n"
      ]
    },
    {
      "cell_type": "code",
      "execution_count": 29,
      "metadata": {},
      "outputs": [
        {
          "data": {
            "text/plain": [
              "' swifter library apply process processing cpu apply operation '"
            ]
          },
          "execution_count": 29,
          "metadata": {},
          "output_type": "execute_result"
        }
      ],
      "source": [
        "getLemma(\"\"\"\n",
        "Swifter is a library that can accelerate the apply process by utilizing parallel processing on multiple CPU cores.\n",
        "This can significantly speed up the apply operation, especially for complex functions or large datasets. \n",
        "\"\"\")"
      ]
    },
    {
      "cell_type": "markdown",
      "metadata": {
        "id": "sxfVk4GHErIQ"
      },
      "source": [
        "#### 4.3. Lemmatization\n",
        "Most of the words that are important to identify a topic are nouns.The words which are not nouns can be removed. Getting the lemma of word is time consuming.\n",
        "\n",
        "We can use `swifter` to optimize the process.\n",
        "\n",
        "Swifter is a library that can accelerate the apply process by utilizing parallel processing on multiple CPU cores.\n",
        "\n",
        "This can significantly speed up the apply operation, especially for complex functions or large datasets. "
      ]
    },
    {
      "cell_type": "code",
      "execution_count": 31,
      "metadata": {},
      "outputs": [
        {
          "name": "stderr",
          "output_type": "stream",
          "text": [
            "Pandas Apply: 100%|██████████| 21072/21072 [10:29<00:00, 33.45it/s]\n"
          ]
        }
      ],
      "source": [
        "import swifter\n",
        "df['complaint_clean'] = df['complaint_pre_process'].swifter.apply(getLemma)"
      ]
    },
    {
      "cell_type": "code",
      "execution_count": 32,
      "metadata": {
        "id": "PI0BhMdK99hM"
      },
      "outputs": [],
      "source": [
        "complaint_pre_processed = df['complaint_clean'].tolist()"
      ]
    },
    {
      "cell_type": "code",
      "execution_count": 33,
      "metadata": {
        "colab": {
          "base_uri": "https://localhost:8080/",
          "height": 629
        },
        "id": "hVimYVebac-i",
        "outputId": "4069d1eb-ddf6-4153-fa0c-8864343584fc"
      },
      "outputs": [
        {
          "data": {
            "text/html": [
              "<div>\n",
              "<style scoped>\n",
              "    .dataframe tbody tr th:only-of-type {\n",
              "        vertical-align: middle;\n",
              "    }\n",
              "\n",
              "    .dataframe tbody tr th {\n",
              "        vertical-align: top;\n",
              "    }\n",
              "\n",
              "    .dataframe thead th {\n",
              "        text-align: right;\n",
              "    }\n",
              "</style>\n",
              "<table border=\"1\" class=\"dataframe\">\n",
              "  <thead>\n",
              "    <tr style=\"text-align: right;\">\n",
              "      <th></th>\n",
              "      <th>complaint_pre_process</th>\n",
              "      <th>complaint_clean</th>\n",
              "    </tr>\n",
              "  </thead>\n",
              "  <tbody>\n",
              "    <tr>\n",
              "      <th>1</th>\n",
              "      <td>good morning my name is   and i appreciate it ...</td>\n",
              "      <td>morning name stop bank cardmember debt verifi...</td>\n",
              "    </tr>\n",
              "    <tr>\n",
              "      <th>2</th>\n",
              "      <td>i upgraded my   card in  and was told by the a...</td>\n",
              "      <td>card agent anniversary date agent information...</td>\n",
              "    </tr>\n",
              "    <tr>\n",
              "      <th>10</th>\n",
              "      <td>chase card was reported on  however fraudulent...</td>\n",
              "      <td>card application identity consent credit iden...</td>\n",
              "    </tr>\n",
              "    <tr>\n",
              "      <th>11</th>\n",
              "      <td>on  while trying to book a     ticket i came a...</td>\n",
              "      <td>ticket offer ticket card information offer mi...</td>\n",
              "    </tr>\n",
              "    <tr>\n",
              "      <th>14</th>\n",
              "      <td>my grand son give me check for  i deposit it i...</td>\n",
              "      <td>son check chase account fund chase bank accou...</td>\n",
              "    </tr>\n",
              "    <tr>\n",
              "      <th>...</th>\n",
              "      <td>...</td>\n",
              "      <td>...</td>\n",
              "    </tr>\n",
              "    <tr>\n",
              "      <th>78303</th>\n",
              "      <td>after being a chase card customer for well ove...</td>\n",
              "      <td>chase card customer decade credit chase bonus...</td>\n",
              "    </tr>\n",
              "    <tr>\n",
              "      <th>78309</th>\n",
              "      <td>on wednesday  i called chas my   visa credit c...</td>\n",
              "      <td>visa credit card provider claim purchase prot...</td>\n",
              "    </tr>\n",
              "    <tr>\n",
              "      <th>78310</th>\n",
              "      <td>i am not familiar with  pay and did not unders...</td>\n",
              "      <td>pay risk chase bank app chase banking merchan...</td>\n",
              "    </tr>\n",
              "    <tr>\n",
              "      <th>78311</th>\n",
              "      <td>i have had flawless credit for  yrs ive had ch...</td>\n",
              "      <td>credit yrs chase credit chase freedom balance...</td>\n",
              "    </tr>\n",
              "    <tr>\n",
              "      <th>78312</th>\n",
              "      <td>roughly  years ago i closed out my accounts wi...</td>\n",
              "      <td>order line credit account payment payment cre...</td>\n",
              "    </tr>\n",
              "  </tbody>\n",
              "</table>\n",
              "<p>21072 rows × 2 columns</p>\n",
              "</div>"
            ],
            "text/plain": [
              "                                   complaint_pre_process  \\\n",
              "1      good morning my name is   and i appreciate it ...   \n",
              "2      i upgraded my   card in  and was told by the a...   \n",
              "10     chase card was reported on  however fraudulent...   \n",
              "11     on  while trying to book a     ticket i came a...   \n",
              "14     my grand son give me check for  i deposit it i...   \n",
              "...                                                  ...   \n",
              "78303  after being a chase card customer for well ove...   \n",
              "78309  on wednesday  i called chas my   visa credit c...   \n",
              "78310  i am not familiar with  pay and did not unders...   \n",
              "78311  i have had flawless credit for  yrs ive had ch...   \n",
              "78312  roughly  years ago i closed out my accounts wi...   \n",
              "\n",
              "                                         complaint_clean  \n",
              "1       morning name stop bank cardmember debt verifi...  \n",
              "2       card agent anniversary date agent information...  \n",
              "10      card application identity consent credit iden...  \n",
              "11      ticket offer ticket card information offer mi...  \n",
              "14      son check chase account fund chase bank accou...  \n",
              "...                                                  ...  \n",
              "78303   chase card customer decade credit chase bonus...  \n",
              "78309   visa credit card provider claim purchase prot...  \n",
              "78310   pay risk chase bank app chase banking merchan...  \n",
              "78311   credit yrs chase credit chase freedom balance...  \n",
              "78312   order line credit account payment payment cre...  \n",
              "\n",
              "[21072 rows x 2 columns]"
            ]
          },
          "execution_count": 33,
          "metadata": {},
          "output_type": "execute_result"
        }
      ],
      "source": [
        "df[['complaint_pre_process','complaint_clean']]"
      ]
    },
    {
      "cell_type": "markdown",
      "metadata": {},
      "source": [
        "### 5. Feature Extraction"
      ]
    },
    {
      "cell_type": "code",
      "execution_count": 35,
      "metadata": {},
      "outputs": [
        {
          "data": {
            "text/plain": [
              "(21072, 13211)"
            ]
          },
          "execution_count": 35,
          "metadata": {},
          "output_type": "execute_result"
        }
      ],
      "source": [
        "# converting words to number using tfidf vectorizer\n",
        "vect = TfidfVectorizer(stop_words='english')\n",
        "X = vect.fit_transform(complaint_pre_processed)\n",
        "X.shape"
      ]
    },
    {
      "cell_type": "markdown",
      "metadata": {
        "id": "C6Ph1OIDFVcP"
      },
      "source": [
        "### 6. Topic Modelling"
      ]
    },
    {
      "cell_type": "code",
      "execution_count": 36,
      "metadata": {
        "id": "vFtb9hqOIUOF"
      },
      "outputs": [
        {
          "name": "stdout",
          "output_type": "stream",
          "text": [
            "(21072, 5)\n",
            "(5, 13211)\n"
          ]
        }
      ],
      "source": [
        "# topic modelling using NMF\n",
        "from sklearn.decomposition import NMF\n",
        "\n",
        "nmf = NMF(n_components=5) # number of topics\n",
        "W = nmf.fit_transform(X)\n",
        "H = nmf.components_\n",
        "print(W.shape)\n",
        "print(H.shape)"
      ]
    },
    {
      "cell_type": "code",
      "execution_count": 37,
      "metadata": {},
      "outputs": [
        {
          "data": {
            "text/html": [
              "<div>\n",
              "<style scoped>\n",
              "    .dataframe tbody tr th:only-of-type {\n",
              "        vertical-align: middle;\n",
              "    }\n",
              "\n",
              "    .dataframe tbody tr th {\n",
              "        vertical-align: top;\n",
              "    }\n",
              "\n",
              "    .dataframe thead th {\n",
              "        text-align: right;\n",
              "    }\n",
              "</style>\n",
              "<table border=\"1\" class=\"dataframe\">\n",
              "  <thead>\n",
              "    <tr style=\"text-align: right;\">\n",
              "      <th></th>\n",
              "      <th>Word 1</th>\n",
              "      <th>Word 2</th>\n",
              "      <th>Word 3</th>\n",
              "      <th>Word 4</th>\n",
              "      <th>Word 5</th>\n",
              "      <th>Word 6</th>\n",
              "      <th>Word 7</th>\n",
              "      <th>Word 8</th>\n",
              "      <th>Word 9</th>\n",
              "      <th>Word 10</th>\n",
              "    </tr>\n",
              "  </thead>\n",
              "  <tbody>\n",
              "    <tr>\n",
              "      <th>Topic 1</th>\n",
              "      <td>account</td>\n",
              "      <td>bank</td>\n",
              "      <td>money</td>\n",
              "      <td>check</td>\n",
              "      <td>chase</td>\n",
              "      <td>branch</td>\n",
              "      <td>deposit</td>\n",
              "      <td>checking</td>\n",
              "      <td>number</td>\n",
              "      <td>business</td>\n",
              "    </tr>\n",
              "    <tr>\n",
              "      <th>Topic 2</th>\n",
              "      <td>card</td>\n",
              "      <td>chase</td>\n",
              "      <td>credit</td>\n",
              "      <td>charge</td>\n",
              "      <td>fraud</td>\n",
              "      <td>dispute</td>\n",
              "      <td>company</td>\n",
              "      <td>merchant</td>\n",
              "      <td>fee</td>\n",
              "      <td>purchase</td>\n",
              "    </tr>\n",
              "    <tr>\n",
              "      <th>Topic 3</th>\n",
              "      <td>loan</td>\n",
              "      <td>mortgage</td>\n",
              "      <td>chase</td>\n",
              "      <td>home</td>\n",
              "      <td>modification</td>\n",
              "      <td>property</td>\n",
              "      <td>foreclosure</td>\n",
              "      <td>letter</td>\n",
              "      <td>house</td>\n",
              "      <td>time</td>\n",
              "    </tr>\n",
              "    <tr>\n",
              "      <th>Topic 4</th>\n",
              "      <td>credit</td>\n",
              "      <td>report</td>\n",
              "      <td>inquiry</td>\n",
              "      <td>score</td>\n",
              "      <td>debt</td>\n",
              "      <td>reporting</td>\n",
              "      <td>account</td>\n",
              "      <td>information</td>\n",
              "      <td>limit</td>\n",
              "      <td>identity</td>\n",
              "    </tr>\n",
              "    <tr>\n",
              "      <th>Topic 5</th>\n",
              "      <td>payment</td>\n",
              "      <td>balance</td>\n",
              "      <td>month</td>\n",
              "      <td>fee</td>\n",
              "      <td>statement</td>\n",
              "      <td>date</td>\n",
              "      <td>auto</td>\n",
              "      <td>chase</td>\n",
              "      <td>time</td>\n",
              "      <td>day</td>\n",
              "    </tr>\n",
              "  </tbody>\n",
              "</table>\n",
              "</div>"
            ],
            "text/plain": [
              "          Word 1    Word 2   Word 3  Word 4        Word 5     Word 6  \\\n",
              "Topic 1  account      bank    money   check         chase     branch   \n",
              "Topic 2     card     chase   credit  charge         fraud    dispute   \n",
              "Topic 3     loan  mortgage    chase    home  modification   property   \n",
              "Topic 4   credit    report  inquiry   score          debt  reporting   \n",
              "Topic 5  payment   balance    month     fee     statement       date   \n",
              "\n",
              "              Word 7       Word 8  Word 9   Word 10  \n",
              "Topic 1      deposit     checking  number  business  \n",
              "Topic 2      company     merchant     fee  purchase  \n",
              "Topic 3  foreclosure       letter   house      time  \n",
              "Topic 4      account  information   limit  identity  \n",
              "Topic 5         auto        chase    time       day  "
            ]
          },
          "execution_count": 37,
          "metadata": {},
          "output_type": "execute_result"
        }
      ],
      "source": [
        "# Printing the Top 10 words per topic\n",
        "words = np.array(vect.get_feature_names_out())\n",
        "topic_words = pd.DataFrame(np.zeros((5, 10)), index=[f'Topic {i + 1}' for i in range(5)],\n",
        "                           columns=[f'Word {i + 1}' for i in range(10)]).astype(str)\n",
        "for i in range(5):\n",
        "    ix = H[i].argsort()[::-1][:10]\n",
        "    topic_words.iloc[i] = words[ix]\n",
        "\n",
        "topic_words"
      ]
    },
    {
      "cell_type": "code",
      "execution_count": 38,
      "metadata": {},
      "outputs": [
        {
          "data": {
            "text/html": [
              "<div>\n",
              "<style scoped>\n",
              "    .dataframe tbody tr th:only-of-type {\n",
              "        vertical-align: middle;\n",
              "    }\n",
              "\n",
              "    .dataframe tbody tr th {\n",
              "        vertical-align: top;\n",
              "    }\n",
              "\n",
              "    .dataframe thead th {\n",
              "        text-align: right;\n",
              "    }\n",
              "</style>\n",
              "<table border=\"1\" class=\"dataframe\">\n",
              "  <thead>\n",
              "    <tr style=\"text-align: right;\">\n",
              "      <th></th>\n",
              "      <th>Topic0</th>\n",
              "      <th>Topic1</th>\n",
              "      <th>Topic2</th>\n",
              "      <th>Topic3</th>\n",
              "      <th>Topic4</th>\n",
              "      <th>dominant_topic</th>\n",
              "    </tr>\n",
              "  </thead>\n",
              "  <tbody>\n",
              "    <tr>\n",
              "      <th>Doc0</th>\n",
              "      <td>0.03</td>\n",
              "      <td>0.00</td>\n",
              "      <td>0.02</td>\n",
              "      <td>0.02</td>\n",
              "      <td>0.01</td>\n",
              "      <td>0</td>\n",
              "    </tr>\n",
              "    <tr>\n",
              "      <th>Doc1</th>\n",
              "      <td>0.01</td>\n",
              "      <td>0.02</td>\n",
              "      <td>0.00</td>\n",
              "      <td>0.00</td>\n",
              "      <td>0.00</td>\n",
              "      <td>1</td>\n",
              "    </tr>\n",
              "    <tr>\n",
              "      <th>Doc2</th>\n",
              "      <td>0.00</td>\n",
              "      <td>0.02</td>\n",
              "      <td>0.00</td>\n",
              "      <td>0.03</td>\n",
              "      <td>0.00</td>\n",
              "      <td>3</td>\n",
              "    </tr>\n",
              "    <tr>\n",
              "      <th>Doc3</th>\n",
              "      <td>0.02</td>\n",
              "      <td>0.02</td>\n",
              "      <td>0.01</td>\n",
              "      <td>0.05</td>\n",
              "      <td>0.00</td>\n",
              "      <td>3</td>\n",
              "    </tr>\n",
              "    <tr>\n",
              "      <th>Doc4</th>\n",
              "      <td>0.07</td>\n",
              "      <td>0.01</td>\n",
              "      <td>0.01</td>\n",
              "      <td>0.00</td>\n",
              "      <td>0.00</td>\n",
              "      <td>0</td>\n",
              "    </tr>\n",
              "  </tbody>\n",
              "</table>\n",
              "</div>"
            ],
            "text/plain": [
              "      Topic0  Topic1  Topic2  Topic3  Topic4  dominant_topic\n",
              "Doc0    0.03    0.00    0.02    0.02    0.01               0\n",
              "Doc1    0.01    0.02    0.00    0.00    0.00               1\n",
              "Doc2    0.00    0.02    0.00    0.03    0.00               3\n",
              "Doc3    0.02    0.02    0.01    0.05    0.00               3\n",
              "Doc4    0.07    0.01    0.01    0.00    0.00               0"
            ]
          },
          "execution_count": 38,
          "metadata": {},
          "output_type": "execute_result"
        }
      ],
      "source": [
        "colnames = [\"Topic\" + str(i) for i in range(nmf.n_components)]\n",
        "docnames = [\"Doc\" + str(i) for i in range(len(complaint_pre_processed))]\n",
        "df_doc_topic = pd.DataFrame(np.round(W, 2), columns=colnames, index=docnames)\n",
        "significant_topic = np.argmax(df_doc_topic.values, axis=1)\n",
        "df_doc_topic['dominant_topic'] = significant_topic\n",
        "df_doc_topic.head()"
      ]
    },
    {
      "cell_type": "code",
      "execution_count": 39,
      "metadata": {},
      "outputs": [
        {
          "data": {
            "text/html": [
              "<div>\n",
              "<style scoped>\n",
              "    .dataframe tbody tr th:only-of-type {\n",
              "        vertical-align: middle;\n",
              "    }\n",
              "\n",
              "    .dataframe tbody tr th {\n",
              "        vertical-align: top;\n",
              "    }\n",
              "\n",
              "    .dataframe thead th {\n",
              "        text-align: right;\n",
              "    }\n",
              "</style>\n",
              "<table border=\"1\" class=\"dataframe\">\n",
              "  <thead>\n",
              "    <tr style=\"text-align: right;\">\n",
              "      <th></th>\n",
              "      <th>complaint_clean</th>\n",
              "      <th>topic_category</th>\n",
              "    </tr>\n",
              "  </thead>\n",
              "  <tbody>\n",
              "    <tr>\n",
              "      <th>1</th>\n",
              "      <td>morning name stop bank cardmember debt verifi...</td>\n",
              "      <td>bank account services</td>\n",
              "    </tr>\n",
              "    <tr>\n",
              "      <th>2</th>\n",
              "      <td>card agent anniversary date agent information...</td>\n",
              "      <td>credit_card</td>\n",
              "    </tr>\n",
              "    <tr>\n",
              "      <th>10</th>\n",
              "      <td>card application identity consent credit iden...</td>\n",
              "      <td>theft/dispute reporting</td>\n",
              "    </tr>\n",
              "    <tr>\n",
              "      <th>11</th>\n",
              "      <td>ticket offer ticket card information offer mi...</td>\n",
              "      <td>theft/dispute reporting</td>\n",
              "    </tr>\n",
              "    <tr>\n",
              "      <th>14</th>\n",
              "      <td>son check chase account fund chase bank accou...</td>\n",
              "      <td>bank account services</td>\n",
              "    </tr>\n",
              "  </tbody>\n",
              "</table>\n",
              "</div>"
            ],
            "text/plain": [
              "                                      complaint_clean           topic_category\n",
              "1    morning name stop bank cardmember debt verifi...    bank account services\n",
              "2    card agent anniversary date agent information...              credit_card\n",
              "10   card application identity consent credit iden...  theft/dispute reporting\n",
              "11   ticket offer ticket card information offer mi...  theft/dispute reporting\n",
              "14   son check chase account fund chase bank accou...    bank account services"
            ]
          },
          "execution_count": 39,
          "metadata": {},
          "output_type": "execute_result"
        }
      ],
      "source": [
        "# creating a dictionary to map the labels to corresponding categories.\n",
        "topics ={\n",
        "    0: 'bank account services',\n",
        "    1: 'credit_card',\n",
        "    2: 'mortgage/loans',\n",
        "    3: 'theft/dispute reporting',\n",
        "    4: 'others'\n",
        "}\n",
        "\n",
        "# getting the dominant topic assigned the maximum weight\n",
        "df['max_topic']=W.argmax(axis=1)\n",
        "\n",
        "# mapping the max topic to the categories using topic dictionary\n",
        "df['topic_category']= df['max_topic'].map(topics)\n",
        "\n",
        "# let's print few complaints in each topic\n",
        "df[['complaint_clean','topic_category']].head()"
      ]
    },
    {
      "cell_type": "markdown",
      "metadata": {},
      "source": [
        "#### Lets check if there is any class imbalance"
      ]
    },
    {
      "cell_type": "code",
      "execution_count": 41,
      "metadata": {},
      "outputs": [
        {
          "data": {
            "text/plain": [
              "<Axes: xlabel='topic_category', ylabel='count'>"
            ]
          },
          "execution_count": 41,
          "metadata": {},
          "output_type": "execute_result"
        },
        {
          "data": {
            "image/png": "[encoded data removed]",
            "text/plain": [
              "<Figure size 900x400 with 1 Axes>"
            ]
          },
          "metadata": {},
          "output_type": "display_data"
        }
      ],
      "source": [
        "# distribution of the topics\n",
        "import matplotlib.pyplot as plt\n",
        "import seaborn as sns\n",
        "\n",
        "plt.figure(figsize=(9,4))\n",
        "sns.countplot(data=df, x='topic_category', hue='topic_category')"
      ]
    },
    {
      "cell_type": "markdown",
      "metadata": {
        "id": "F9S7kwRBZ_a9"
      },
      "source": [
        "## 7. Model Training"
      ]
    },
    {
      "cell_type": "code",
      "execution_count": 42,
      "metadata": {},
      "outputs": [
        {
          "name": "stdout",
          "output_type": "stream",
          "text": [
            "training data size:(16857, 13211)\n",
            "training data size:(4215, 13211)\n"
          ]
        }
      ],
      "source": [
        "from sklearn.model_selection import train_test_split\n",
        "\n",
        "X_transformed = X.toarray()\n",
        "y = df['max_topic']\n",
        "\n",
        "X_train,X_test,y_train,y_test = train_test_split(X_transformed,y,test_size=0.2)\n",
        "\n",
        "print(f\"training data size:{X_train.shape}\")\n",
        "print(f\"training data size:{X_test.shape}\")"
      ]
    },
    {
      "cell_type": "code",
      "execution_count": 43,
      "metadata": {
        "id": "Q1j3HVCPWQI9"
      },
      "outputs": [],
      "source": [
        "# training a classification model\n",
        "from sklearn.linear_model import LogisticRegression\n",
        "from sklearn.model_selection import GridSearchCV, KFold"
      ]
    },
    {
      "cell_type": "code",
      "execution_count": 61,
      "metadata": {},
      "outputs": [],
      "source": [
        "import warnings\n",
        "warnings.simplefilter(action='ignore', category=FutureWarning)"
      ]
    },
    {
      "cell_type": "code",
      "execution_count": 44,
      "metadata": {},
      "outputs": [],
      "source": [
        "lr = LogisticRegression().fit()"
      ]
    },
    {
      "cell_type": "code",
      "execution_count": null,
      "metadata": {},
      "outputs": [],
      "source": [
        "lr = LogisticRegression()\n",
        "\n",
        "# defining hyper-parameters to be fine-tuned\n",
        "param_grid ={\n",
        "    'C':[\n",
        "        0.1, \n",
        "        # 1\n",
        "    ],\n",
        "    'penalty':[\n",
        "        # 'l1',\n",
        "        'l2'\n",
        "    ]\n",
        "}\n",
        "\n",
        "cv = KFold(n_splits=5, shuffle=True, random_state=42)\n",
        "gridsearch = GridSearchCV(lr, param_grid, cv=cv, n_jobs=-1)\n",
        "gridsearch.fit(X_train,y_train)"
      ]
    },
    {
      "cell_type": "code",
      "execution_count": 47,
      "metadata": {
        "id": "hLi78EvhZWdJ"
      },
      "outputs": [
        {
          "data": {
            "text/html": [
              "<style>#sk-container-id-3 {color: black;background-color: white;}#sk-container-id-3 pre{padding: 0;}#sk-container-id-3 div.sk-toggleable {background-color: white;}#sk-container-id-3 label.sk-toggleable__label {cursor: pointer;display: block;width: 100%;margin-bottom: 0;padding: 0.3em;box-sizing: border-box;text-align: center;}#sk-container-id-3 label.sk-toggleable__label-arrow:before {content: \"▸\";float: left;margin-right: 0.25em;color: #696969;}#sk-container-id-3 label.sk-toggleable__label-arrow:hover:before {color: black;}#sk-container-id-3 div.sk-estimator:hover label.sk-toggleable__label-arrow:before {color: black;}#sk-container-id-3 div.sk-toggleable__content {max-height: 0;max-width: 0;overflow: hidden;text-align: left;background-color: #f0f8ff;}#sk-container-id-3 div.sk-toggleable__content pre {margin: 0.2em;color: black;border-radius: 0.25em;background-color: #f0f8ff;}#sk-container-id-3 input.sk-toggleable__control:checked~div.sk-toggleable__content {max-height: 200px;max-width: 100%;overflow: auto;}#sk-container-id-3 input.sk-toggleable__control:checked~label.sk-toggleable__label-arrow:before {content: \"▾\";}#sk-container-id-3 div.sk-estimator input.sk-toggleable__control:checked~label.sk-toggleable__label {background-color: #d4ebff;}#sk-container-id-3 div.sk-label input.sk-toggleable__control:checked~label.sk-toggleable__label {background-color: #d4ebff;}#sk-container-id-3 input.sk-hidden--visually {border: 0;clip: rect(1px 1px 1px 1px);clip: rect(1px, 1px, 1px, 1px);height: 1px;margin: -1px;overflow: hidden;padding: 0;position: absolute;width: 1px;}#sk-container-id-3 div.sk-estimator {font-family: monospace;background-color: #f0f8ff;border: 1px dotted black;border-radius: 0.25em;box-sizing: border-box;margin-bottom: 0.5em;}#sk-container-id-3 div.sk-estimator:hover {background-color: #d4ebff;}#sk-container-id-3 div.sk-parallel-item::after {content: \"\";width: 100%;border-bottom: 1px solid gray;flex-grow: 1;}#sk-container-id-3 div.sk-label:hover label.sk-toggleable__label {background-color: #d4ebff;}#sk-container-id-3 div.sk-serial::before {content: \"\";position: absolute;border-left: 1px solid gray;box-sizing: border-box;top: 0;bottom: 0;left: 50%;z-index: 0;}#sk-container-id-3 div.sk-serial {display: flex;flex-direction: column;align-items: center;background-color: white;padding-right: 0.2em;padding-left: 0.2em;position: relative;}#sk-container-id-3 div.sk-item {position: relative;z-index: 1;}#sk-container-id-3 div.sk-parallel {display: flex;align-items: stretch;justify-content: center;background-color: white;position: relative;}#sk-container-id-3 div.sk-item::before, #sk-container-id-3 div.sk-parallel-item::before {content: \"\";position: absolute;border-left: 1px solid gray;box-sizing: border-box;top: 0;bottom: 0;left: 50%;z-index: -1;}#sk-container-id-3 div.sk-parallel-item {display: flex;flex-direction: column;z-index: 1;position: relative;background-color: white;}#sk-container-id-3 div.sk-parallel-item:first-child::after {align-self: flex-end;width: 50%;}#sk-container-id-3 div.sk-parallel-item:last-child::after {align-self: flex-start;width: 50%;}#sk-container-id-3 div.sk-parallel-item:only-child::after {width: 0;}#sk-container-id-3 div.sk-dashed-wrapped {border: 1px dashed gray;margin: 0 0.4em 0.5em 0.4em;box-sizing: border-box;padding-bottom: 0.4em;background-color: white;}#sk-container-id-3 div.sk-label label {font-family: monospace;font-weight: bold;display: inline-block;line-height: 1.2em;}#sk-container-id-3 div.sk-label-container {text-align: center;}#sk-container-id-3 div.sk-container {/* jupyter's `normalize.less` sets `[hidden] { display: none; }` but bootstrap.min.css set `[hidden] { display: none !important; }` so we also need the `!important` here to be able to override the default hidden behavior on the sphinx rendered scikit-learn.org. See: https://github.com/scikit-learn/scikit-learn/issues/21755 */display: inline-block !important;position: relative;}#sk-container-id-3 div.sk-text-repr-fallback {display: none;}</style><div id=\"sk-container-id-3\" class=\"sk-top-container\"><div class=\"sk-text-repr-fallback\"><pre>LogisticRegression(C=0.1)</pre><b>In a Jupyter environment, please rerun this cell to show the HTML representation or trust the notebook. <br />On GitHub, the HTML representation is unable to render, please try loading this page with nbviewer.org.</b></div><div class=\"sk-container\" hidden><div class=\"sk-item\"><div class=\"sk-estimator sk-toggleable\"><input class=\"sk-toggleable__control sk-hidden--visually\" id=\"sk-estimator-id-5\" type=\"checkbox\" checked><label for=\"sk-estimator-id-5\" class=\"sk-toggleable__label sk-toggleable__label-arrow\">LogisticRegression</label><div class=\"sk-toggleable__content\"><pre>LogisticRegression(C=0.1)</pre></div></div></div></div></div>"
            ],
            "text/plain": [
              "LogisticRegression(C=0.1)"
            ]
          },
          "execution_count": 47,
          "metadata": {},
          "output_type": "execute_result"
        }
      ],
      "source": [
        "model = gridsearch.best_estimator_\n",
        "model"
      ]
    },
    {
      "cell_type": "markdown",
      "metadata": {},
      "source": [
        "#### Model Evaluation"
      ]
    },
    {
      "cell_type": "code",
      "execution_count": 48,
      "metadata": {},
      "outputs": [
        {
          "data": {
            "text/plain": [
              "array([3, 4, 2, ..., 4, 0, 0])"
            ]
          },
          "execution_count": 48,
          "metadata": {},
          "output_type": "execute_result"
        }
      ],
      "source": [
        "# printing the performance summary of logistic regression\n",
        "from sklearn.metrics import classification_report, accuracy_score\n",
        "\n",
        "y_test_predicted = model.predict(X_test)\n",
        "\n",
        "y_test_predicted"
      ]
    },
    {
      "cell_type": "code",
      "execution_count": 50,
      "metadata": {},
      "outputs": [
        {
          "name": "stdout",
          "output_type": "stream",
          "text": [
            "Classification report on test data\n",
            "\n",
            "              precision    recall  f1-score   support\n",
            "\n",
            "           0       0.93      0.98      0.96      1191\n",
            "           1       0.91      0.99      0.95      1172\n",
            "           2       0.94      0.96      0.95       773\n",
            "           3       0.98      0.86      0.92       607\n",
            "           4       0.99      0.76      0.86       472\n",
            "\n",
            "    accuracy                           0.94      4215\n",
            "   macro avg       0.95      0.91      0.93      4215\n",
            "weighted avg       0.94      0.94      0.94      4215\n",
            "\n",
            "Accuracy on test data: 0.937841043890866\n"
          ]
        }
      ],
      "source": [
        "print(\"Classification report on test data\\n\")\n",
        "print(classification_report(y_test, y_test_predicted))\n",
        "\n",
        "accuracy=accuracy_score(y_test,y_test_predicted)\n",
        "print(f\"Accuracy on test data: {accuracy}\")"
      ]
    },
    {
      "cell_type": "markdown",
      "metadata": {},
      "source": [
        "### 8. Save model with pickle\n",
        "\n",
        "From the results it is seen that logistic regression with hyper-paramter tuning performs better than xgboost. We can experiment further by hyperparamter tuning xgboost algorithm. For now we will use logistic regression model for prediction"
      ]
    },
    {
      "cell_type": "code",
      "execution_count": 51,
      "metadata": {},
      "outputs": [],
      "source": [
        "# dump final model and tf_idf vector\n",
        "import pickle\n",
        "\n",
        "\n",
        "with open('../src/model/logistic_model.pkl','wb') as f:\n",
        "  pickle.dump(model, f)\n",
        "\n",
        "# Export the same TF-IDF vectorization to the preprocessed input text on the client side.\n",
        "# We need to ensure that the TF-IDF vectorization is consistent with what was used during training.\n",
        "with open('../src/model/tf_idf.pkl','wb') as f:\n",
        "  pickle.dump(vect, f)"
      ]
    },
    {
      "cell_type": "markdown",
      "metadata": {
        "id": "8uuW9bwq8uvt"
      },
      "source": [
        "### XGBoost classifier (optional)"
      ]
    },
    {
      "cell_type": "code",
      "execution_count": 66,
      "metadata": {
        "id": "p_SmaXoQ8yI8"
      },
      "outputs": [],
      "source": [
        "import xgboost as xgb"
      ]
    },
    {
      "cell_type": "code",
      "execution_count": 69,
      "metadata": {
        "colab": {
          "base_uri": "https://localhost:8080/"
        },
        "id": "hmLQvMg58981",
        "outputId": "5e4b49bb-8971-4729-c40b-c23add2366fe"
      },
      "outputs": [],
      "source": [
        "xgb = xgb.XGBClassifier(random_state=42,n_jobs=-1, objective='multi:softmax')\n",
        "xgb.fit(X_train,y_train)"
      ]
    },
    {
      "cell_type": "code",
      "execution_count": 69,
      "metadata": {
        "colab": {
          "base_uri": "https://localhost:8080/"
        },
        "id": "FPFGJF8r9Qg_",
        "outputId": "f72875d5-4166-4876-b97e-a8be1cbf78c1"
      },
      "outputs": [
        {
          "name": "stdout",
          "output_type": "stream",
          "text": [
            "classification report \n",
            "\n",
            "              precision    recall  f1-score   support\n",
            "\n",
            "           0       0.94      0.95      0.94      1165\n",
            "           1       0.92      0.95      0.93      1237\n",
            "           2       0.91      0.91      0.91       768\n",
            "           3       0.93      0.88      0.90       586\n",
            "           4       0.93      0.88      0.90       459\n",
            "\n",
            "    accuracy                           0.92      4215\n",
            "   macro avg       0.92      0.91      0.92      4215\n",
            "weighted avg       0.92      0.92      0.92      4215\n",
            "\n",
            "test accuracy: 0.9238434163701068\n"
          ]
        }
      ],
      "source": [
        "# printing the performance summary of xgboost \n",
        "y_test_pred = xgb.predict(X_test)\n",
        "print(\"classification report \\n\")\n",
        "print(classification_report(y_test,y_test_pred))\n",
        "\n",
        "accuracy = accuracy_score(y_test,y_test_pred)\n",
        "print(f\"test accuracy: {accuracy}\")"
      ]
    }
  ],
  "metadata": {
    "accelerator": "GPU",
    "colab": {
      "authorship_tag": "ABX9TyM5i5FjOxKqc6y7BvP20Imb",
      "include_colab_link": true,
      "provenance": []
    },
    "gpuClass": "standard",
    "kernelspec": {
      "display_name": "Python 3",
      "name": "python3"
    },
    "language_info": {
      "codemirror_mode": {
        "name": "ipython",
        "version": 3
      },
      "file_extension": ".py",
      "mimetype": "text/x-python",
      "name": "python",
      "nbconvert_exporter": "python",
      "pygments_lexer": "ipython3",
      "version": "3.9.18"
    },
    "widgets": {
      "application/vnd.jupyter.widget-state+json": {
        "475806cb24ee4259b150b0f3ed95d34c": {
          "model_module": "@jupyter-widgets/base",
          "model_module_version": "1.2.0",
          "model_name": "LayoutModel",
          "state": {
            "_model_module": "@jupyter-widgets/base",
            "_model_module_version": "1.2.0",
            "_model_name": "LayoutModel",
            "_view_count": null,
            "_view_module": "@jupyter-widgets/base",
            "_view_module_version": "1.2.0",
            "_view_name": "LayoutView",
            "align_content": null,
            "align_items": null,
            "align_self": null,
            "border": null,
            "bottom": null,
            "display": null,
            "flex": null,
            "flex_flow": null,
            "grid_area": null,
            "grid_auto_columns": null,
            "grid_auto_flow": null,
            "grid_auto_rows": null,
            "grid_column": null,
            "grid_gap": null,
            "grid_row": null,
            "grid_template_areas": null,
            "grid_template_columns": null,
            "grid_template_rows": null,
            "height": null,
            "justify_content": null,
            "justify_items": null,
            "left": null,
            "margin": null,
            "max_height": null,
            "max_width": null,
            "min_height": null,
            "min_width": null,
            "object_fit": null,
            "object_position": null,
            "order": null,
            "overflow": null,
            "overflow_x": null,
            "overflow_y": null,
            "padding": null,
            "right": null,
            "top": null,
            "visibility": null,
            "width": null
          }
        },
        "4ca587def0204cff81b8f43f57bc1822": {
          "model_module": "@jupyter-widgets/controls",
          "model_module_version": "1.5.0",
          "model_name": "HTMLModel",
          "state": {
            "_dom_classes": [],
            "_model_module": "@jupyter-widgets/controls",
            "_model_module_version": "1.5.0",
            "_model_name": "HTMLModel",
            "_view_count": null,
            "_view_module": "@jupyter-widgets/controls",
            "_view_module_version": "1.5.0",
            "_view_name": "HTMLView",
            "description": "",
            "description_tooltip": null,
            "layout": "IPY_MODEL_475806cb24ee4259b150b0f3ed95d34c",
            "placeholder": "​",
            "style": "IPY_MODEL_523ab0bc3a814348aca9edd75ae0d69e",
            "value": "Pandas Apply: 100%"
          }
        },
        "523ab0bc3a814348aca9edd75ae0d69e": {
          "model_module": "@jupyter-widgets/controls",
          "model_module_version": "1.5.0",
          "model_name": "DescriptionStyleModel",
          "state": {
            "_model_module": "@jupyter-widgets/controls",
            "_model_module_version": "1.5.0",
            "_model_name": "DescriptionStyleModel",
            "_view_count": null,
            "_view_module": "@jupyter-widgets/base",
            "_view_module_version": "1.2.0",
            "_view_name": "StyleView",
            "description_width": ""
          }
        },
        "63f2410457fd4a68b7c8623946e4182c": {
          "model_module": "@jupyter-widgets/controls",
          "model_module_version": "1.5.0",
          "model_name": "FloatProgressModel",
          "state": {
            "_dom_classes": [],
            "_model_module": "@jupyter-widgets/controls",
            "_model_module_version": "1.5.0",
            "_model_name": "FloatProgressModel",
            "_view_count": null,
            "_view_module": "@jupyter-widgets/controls",
            "_view_module_version": "1.5.0",
            "_view_name": "ProgressView",
            "bar_style": "success",
            "description": "",
            "description_tooltip": null,
            "layout": "IPY_MODEL_d603ace8cbf14fddbb6a4e7c42dc84fc",
            "max": 21072,
            "min": 0,
            "orientation": "horizontal",
            "style": "IPY_MODEL_f1b6714cd63d45a784dfa029636da736",
            "value": 21072
          }
        },
        "8f432d92a1234adea03e66f4e767513c": {
          "model_module": "@jupyter-widgets/base",
          "model_module_version": "1.2.0",
          "model_name": "LayoutModel",
          "state": {
            "_model_module": "@jupyter-widgets/base",
            "_model_module_version": "1.2.0",
            "_model_name": "LayoutModel",
            "_view_count": null,
            "_view_module": "@jupyter-widgets/base",
            "_view_module_version": "1.2.0",
            "_view_name": "LayoutView",
            "align_content": null,
            "align_items": null,
            "align_self": null,
            "border": null,
            "bottom": null,
            "display": null,
            "flex": null,
            "flex_flow": null,
            "grid_area": null,
            "grid_auto_columns": null,
            "grid_auto_flow": null,
            "grid_auto_rows": null,
            "grid_column": null,
            "grid_gap": null,
            "grid_row": null,
            "grid_template_areas": null,
            "grid_template_columns": null,
            "grid_template_rows": null,
            "height": null,
            "justify_content": null,
            "justify_items": null,
            "left": null,
            "margin": null,
            "max_height": null,
            "max_width": null,
            "min_height": null,
            "min_width": null,
            "object_fit": null,
            "object_position": null,
            "order": null,
            "overflow": null,
            "overflow_x": null,
            "overflow_y": null,
            "padding": null,
            "right": null,
            "top": null,
            "visibility": null,
            "width": null
          }
        },
        "a4a6a135a07440fd8c6271606c26094f": {
          "model_module": "@jupyter-widgets/base",
          "model_module_version": "1.2.0",
          "model_name": "LayoutModel",
          "state": {
            "_model_module": "@jupyter-widgets/base",
            "_model_module_version": "1.2.0",
            "_model_name": "LayoutModel",
            "_view_count": null,
            "_view_module": "@jupyter-widgets/base",
            "_view_module_version": "1.2.0",
            "_view_name": "LayoutView",
            "align_content": null,
            "align_items": null,
            "align_self": null,
            "border": null,
            "bottom": null,
            "display": null,
            "flex": null,
            "flex_flow": null,
            "grid_area": null,
            "grid_auto_columns": null,
            "grid_auto_flow": null,
            "grid_auto_rows": null,
            "grid_column": null,
            "grid_gap": null,
            "grid_row": null,
            "grid_template_areas": null,
            "grid_template_columns": null,
            "grid_template_rows": null,
            "height": null,
            "justify_content": null,
            "justify_items": null,
            "left": null,
            "margin": null,
            "max_height": null,
            "max_width": null,
            "min_height": null,
            "min_width": null,
            "object_fit": null,
            "object_position": null,
            "order": null,
            "overflow": null,
            "overflow_x": null,
            "overflow_y": null,
            "padding": null,
            "right": null,
            "top": null,
            "visibility": null,
            "width": null
          }
        },
        "b42be5ef2a0c4bcc881c4c968d51b3ff": {
          "model_module": "@jupyter-widgets/controls",
          "model_module_version": "1.5.0",
          "model_name": "HTMLModel",
          "state": {
            "_dom_classes": [],
            "_model_module": "@jupyter-widgets/controls",
            "_model_module_version": "1.5.0",
            "_model_name": "HTMLModel",
            "_view_count": null,
            "_view_module": "@jupyter-widgets/controls",
            "_view_module_version": "1.5.0",
            "_view_name": "HTMLView",
            "description": "",
            "description_tooltip": null,
            "layout": "IPY_MODEL_a4a6a135a07440fd8c6271606c26094f",
            "placeholder": "​",
            "style": "IPY_MODEL_ed84b560a55d41c4b22394879e559537",
            "value": " 21072/21072 [12:39&lt;00:00, 28.68it/s]"
          }
        },
        "d603ace8cbf14fddbb6a4e7c42dc84fc": {
          "model_module": "@jupyter-widgets/base",
          "model_module_version": "1.2.0",
          "model_name": "LayoutModel",
          "state": {
            "_model_module": "@jupyter-widgets/base",
            "_model_module_version": "1.2.0",
            "_model_name": "LayoutModel",
            "_view_count": null,
            "_view_module": "@jupyter-widgets/base",
            "_view_module_version": "1.2.0",
            "_view_name": "LayoutView",
            "align_content": null,
            "align_items": null,
            "align_self": null,
            "border": null,
            "bottom": null,
            "display": null,
            "flex": null,
            "flex_flow": null,
            "grid_area": null,
            "grid_auto_columns": null,
            "grid_auto_flow": null,
            "grid_auto_rows": null,
            "grid_column": null,
            "grid_gap": null,
            "grid_row": null,
            "grid_template_areas": null,
            "grid_template_columns": null,
            "grid_template_rows": null,
            "height": null,
            "justify_content": null,
            "justify_items": null,
            "left": null,
            "margin": null,
            "max_height": null,
            "max_width": null,
            "min_height": null,
            "min_width": null,
            "object_fit": null,
            "object_position": null,
            "order": null,
            "overflow": null,
            "overflow_x": null,
            "overflow_y": null,
            "padding": null,
            "right": null,
            "top": null,
            "visibility": null,
            "width": null
          }
        },
        "ed84b560a55d41c4b22394879e559537": {
          "model_module": "@jupyter-widgets/controls",
          "model_module_version": "1.5.0",
          "model_name": "DescriptionStyleModel",
          "state": {
            "_model_module": "@jupyter-widgets/controls",
            "_model_module_version": "1.5.0",
            "_model_name": "DescriptionStyleModel",
            "_view_count": null,
            "_view_module": "@jupyter-widgets/base",
            "_view_module_version": "1.2.0",
            "_view_name": "StyleView",
            "description_width": ""
          }
        },
        "f1b6714cd63d45a784dfa029636da736": {
          "model_module": "@jupyter-widgets/controls",
          "model_module_version": "1.5.0",
          "model_name": "ProgressStyleModel",
          "state": {
            "_model_module": "@jupyter-widgets/controls",
            "_model_module_version": "1.5.0",
            "_model_name": "ProgressStyleModel",
            "_view_count": null,
            "_view_module": "@jupyter-widgets/base",
            "_view_module_version": "1.2.0",
            "_view_name": "StyleView",
            "bar_color": null,
            "description_width": ""
          }
        },
        "f35f1459f36e458d9cb0b8c99c6b06d0": {
          "model_module": "@jupyter-widgets/controls",
          "model_module_version": "1.5.0",
          "model_name": "HBoxModel",
          "state": {
            "_dom_classes": [],
            "_model_module": "@jupyter-widgets/controls",
            "_model_module_version": "1.5.0",
            "_model_name": "HBoxModel",
            "_view_count": null,
            "_view_module": "@jupyter-widgets/controls",
            "_view_module_version": "1.5.0",
            "_view_name": "HBoxView",
            "box_style": "",
            "children": [
              "IPY_MODEL_4ca587def0204cff81b8f43f57bc1822",
              "IPY_MODEL_63f2410457fd4a68b7c8623946e4182c",
              "IPY_MODEL_b42be5ef2a0c4bcc881c4c968d51b3ff"
            ],
            "layout": "IPY_MODEL_8f432d92a1234adea03e66f4e767513c"
          }
        }
      }
    }
  },
  "nbformat": 4,
  "nbformat_minor": 0
}
