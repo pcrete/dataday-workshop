{
 "cells": [
  {
   "cell_type": "code",
   "execution_count": 7,
   "id": "054f4d62",
   "metadata": {},
   "outputs": [],
   "source": [
    "import spacy\n",
    "import pickle\n",
    "import re\n",
    "import logging\n",
    "\n",
    "spacy_model = spacy.load(\"en_core_web_sm\")\n",
    "topics ={\n",
    "    0: 'bank account services',\n",
    "    1: 'credit_card',\n",
    "    2: 'mortgage/loans',\n",
    "    3: 'theft/dispute reporting',\n",
    "    4: 'others'\n",
    "}\n",
    "\n",
    "logistic_model, tf_idf = None, None\n",
    "with open('../src/model/logistic_model.pkl','rb') as f:\n",
    "    logistic_model = pickle.load(f)\n",
    "\n",
    "with open('../src/model/tf_idf.pkl','rb') as f:\n",
    "    tf_idf = pickle.load(f)"
   ]
  },
  {
   "cell_type": "markdown",
   "id": "3db38852",
   "metadata": {},
   "source": [
    "### Prediction pipeline"
   ]
  },
  {
   "cell_type": "code",
   "execution_count": 8,
   "id": "0aac4e51",
   "metadata": {},
   "outputs": [],
   "source": [
    "def pre_process_text(text):\n",
    "\ttext = text.lower()\n",
    "\ttext = re.sub(r'\\[.*?\\]','',text)\n",
    "\ttext = re.sub(r'[^\\w\\s]', '',text)\n",
    "\ttext = re.sub(r'[\\d]','',text)\n",
    "\ttext = re.sub(r'[*x]?','',text)\n",
    "\tprint(f\"1. pre-processed: {text}\")\n",
    "\treturn text\n",
    "\n",
    "def get_lemma(text):\n",
    "\t\"\"\"This function returns only noun words\"\"\"\n",
    "\tmodified_text =\"\"\n",
    "\ttokens = spacy_model(text)\n",
    "\tfor token in tokens :\n",
    "\t\tif(token.tag_=='NN'):\n",
    "\t\t\tmodified_text += token.lemma_ +\" \"\n",
    "\n",
    "\tprint(f\"2. lemmatization: {modified_text}\")\n",
    "\treturn modified_text\n",
    "\n",
    "def get_tf_idf_features(text):\n",
    "\tprint(\"3. tf_idf transformation\")\n",
    "\n",
    "\tX = tf_idf.transform([text])\n",
    "\treturn X.toarray()\n",
    "\n",
    "def get_predict(X):\n",
    "\ty = logistic_model.predict(X)\n",
    "\tcls = topics.get(y[0])\n",
    "\tprint(f'4. prediction: \"{cls}\" class')\n",
    "\treturn cls\n",
    "\n",
    "def predict_class(text):\n",
    "\tprint(f\"0. Input Text: {text}\")\n",
    "\tpreprocessedText = pre_process_text(text)\n",
    "\tlemmatizedText = get_lemma(preprocessedText)\n",
    "\n",
    "\tX = get_tf_idf_features(lemmatizedText)\n",
    "\tcategory = get_predict(X)\n",
    "\treturn category"
   ]
  },
  {
   "cell_type": "code",
   "execution_count": 10,
   "id": "87246179",
   "metadata": {},
   "outputs": [
    {
     "name": "stdout",
     "output_type": "stream",
     "text": [
      "0. Input Text: I have a problem with my credit card\n",
      "1. pre-processed: i have a problem with my credit card\n",
      "2. lemmatization: problem credit card \n",
      "3. tf_idf transformation\n",
      "4. prediction: \"credit_card\" class\n"
     ]
    }
   ],
   "source": [
    "output = predict_class(\"I have a problem with my credit card\")"
   ]
  },
  {
   "cell_type": "code",
   "execution_count": 11,
   "id": "a5d40a98",
   "metadata": {},
   "outputs": [
    {
     "data": {
      "text/plain": [
       "'credit_card'"
      ]
     },
     "execution_count": 11,
     "metadata": {},
     "output_type": "execute_result"
    }
   ],
   "source": [
    "output"
   ]
  },
  {
   "cell_type": "code",
   "execution_count": null,
   "id": "8f2078c2",
   "metadata": {},
   "outputs": [],
   "source": []
  },
  {
   "cell_type": "code",
   "execution_count": null,
   "id": "1d997872",
   "metadata": {},
   "outputs": [],
   "source": []
  },
  {
   "cell_type": "code",
   "execution_count": null,
   "id": "6c647457",
   "metadata": {},
   "outputs": [],
   "source": []
  },
  {
   "cell_type": "markdown",
   "id": "056ac629",
   "metadata": {},
   "source": [
    "## API Call"
   ]
  },
  {
   "cell_type": "code",
   "execution_count": 39,
   "id": "2bd1ceef",
   "metadata": {},
   "outputs": [],
   "source": [
    "import requests"
   ]
  },
  {
   "cell_type": "code",
   "execution_count": 70,
   "id": "1f8b449d",
   "metadata": {},
   "outputs": [
    {
     "data": {
      "text/plain": [
       "<Response [200]>"
      ]
     },
     "execution_count": 70,
     "metadata": {},
     "output_type": "execute_result"
    }
   ],
   "source": [
    "# passing a sample payload\n",
    "payload = {\n",
    "    \"text\": \"\"\"\n",
    "        I have transferred money from my account!!!!\n",
    "        But the transaction history doesn't seem to reflect it @#%$$#~\n",
    "        ...Where did my money go?\n",
    "        Please check and let me know asap.\n",
    "        I have attached the screenshot of the transaction.\n",
    "    \"\"\"\n",
    "}\n",
    "\n",
    "# calling the predict endpoint \n",
    "# Please note that the flask application has to be running\n",
    "response = requests.post(\"http://127.0.0.1:5000/predict\", json=payload)\n",
    "response"
   ]
  },
  {
   "cell_type": "code",
   "execution_count": 71,
   "id": "6feb1110",
   "metadata": {},
   "outputs": [
    {
     "data": {
      "text/plain": [
       "{'prediction': 'bank account services'}"
      ]
     },
     "execution_count": 71,
     "metadata": {},
     "output_type": "execute_result"
    }
   ],
   "source": [
    "response.json()"
   ]
  },
  {
   "cell_type": "code",
   "execution_count": null,
   "id": "dc73a026",
   "metadata": {},
   "outputs": [],
   "source": []
  }
 ],
 "metadata": {
  "kernelspec": {
   "display_name": "Python 3 (ipykernel)",
   "language": "python",
   "name": "python3"
  },
  "language_info": {
   "codemirror_mode": {
    "name": "ipython",
    "version": 3
   },
   "file_extension": ".py",
   "mimetype": "text/x-python",
   "name": "python",
   "nbconvert_exporter": "python",
   "pygments_lexer": "ipython3",
   "version": "3.9.18"
  }
 },
 "nbformat": 4,
 "nbformat_minor": 5
}
